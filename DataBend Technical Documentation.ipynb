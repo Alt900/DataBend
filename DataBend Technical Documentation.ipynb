{
 "cells": [
  {
   "cell_type": "markdown",
   "id": "c7e59fe1-a09e-45e1-a4fe-656110ea13b5",
   "metadata": {},
   "source": [
    "# DataBend Technical Documentation\n",
    "\n",
    "## Back-End Infrastructure\n",
    "\n",
    "### Crow API Server\n",
    "\n",
    "### C++ Static Library\n",
    "#### Statistics\n",
    "#### DataHandler \n",
    "\n",
    "## Front-End Infrastructure\n",
    "\n",
    "### App Component\n",
    "\n",
    "### Dashboard Component\n",
    "\n",
    "### D3 Chart Manager Singleton Service\n",
    "\n",
    "### Global State Manager Singleton Service\n",
    "\n",
    "### Utils Singleton Service\n"
   ]
  }
 ],
 "metadata": {
  "kernelspec": {
   "display_name": "Python 3 (ipykernel)",
   "language": "python",
   "name": "python3"
  },
  "language_info": {
   "codemirror_mode": {
    "name": "ipython",
    "version": 3
   },
   "file_extension": ".py",
   "mimetype": "text/x-python",
   "name": "python",
   "nbconvert_exporter": "python",
   "pygments_lexer": "ipython3",
   "version": "3.11.5"
  }
 },
 "nbformat": 4,
 "nbformat_minor": 5
}
